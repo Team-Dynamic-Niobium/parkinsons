{
 "cells": [
  {
   "cell_type": "code",
   "execution_count": 698,
   "metadata": {},
   "outputs": [],
   "source": [
    "import numpy as np\n",
    "import matplotlib.pyplot as plt\n",
    "import pandas as pd\n",
    "import yaml\n",
    "import io\n",
    "import math\n",
    "from sympy.solvers import solve\n",
    "from sympy import Symbol\n",
    "z = Symbol('x')"
   ]
  },
  {
   "cell_type": "code",
   "execution_count": 728,
   "metadata": {},
   "outputs": [],
   "source": [
    "class maketrial(dict): #create trials class to easily store trials without passing around d\n",
    "    def add(self,attr,val):\n",
    "        self[attr] = val\n",
    "\n",
    "class maketrials(dict):\n",
    "    def __init__(self, filename):\n",
    "        initimport = pd.read_csv(filename,header = None)\n",
    "        initimport.columns = ['x','y']\n",
    "        nums = list(initimport.loc[initimport['x'] == 0].index)\n",
    "        nums.insert(0,0)\n",
    "        fullrange = [t[1] for t in zip(nums, nums[1:]) if t[0]+1 != t[1]]\n",
    "        fullrange.insert(0,0)\n",
    "        fullranges = [list(t) for t in zip(fullrange, fullrange[1:])]\n",
    "        #print(fullranges)\n",
    "        ranges = [list(t) for t in zip(nums, nums[1:]) if t[0]+1 != t[1]]\n",
    "        #print(ranges)\n",
    "        ite = 0\n",
    "        for i in range(len(ranges)):\n",
    "            rangeiq = ranges[i]\n",
    "            fullrangeiq = fullranges[i]\n",
    "            ite += 1\n",
    "            nozero = initimport.iloc[rangeiq[0]+1:rangeiq[1]-1]\n",
    "            zero = initimport.iloc[fullrangeiq[0]+1:fullrangeiq[1]-1]\n",
    "            self[f\"{ite}\"] = maketrial()\n",
    "            self[f\"{ite}\"].add('raw',nozero)\n",
    "            self[f\"{ite}\"].add('rawz',zero)\n",
    "#         for rangeiq in ranges:\n",
    "#             ite += 1\n",
    "#             toplt = initimport.iloc[rangeiq[0]+1:rangeiq[1]]\n",
    "#             self[f\"{ite}\"] = maketrial(toplt)\n",
    "    def plot(self):\n",
    "        for item in self.keys():\n",
    "            toplt = self[item]['raw']\n",
    "            plt.plot(toplt['x'],toplt['y'])\n",
    "            axes = plt.gca()\n",
    "            axes.set_xlim([0,1500])\n",
    "            axes.set_ylim([0,500])\n",
    "        plt.show()\n",
    "    def evalrules(self,filename):\n",
    "       \n",
    "        with open(filename, 'r') as stream:\n",
    "            data_loaded = yaml.safe_load(stream)\n",
    "        indicators = pd.DataFrame(data_loaded['rules']).T\n",
    "        \n",
    "        for item in self.keys():\n",
    "\n",
    "            trial = self[item]\n",
    "            #print(trial['x'])\n",
    "            leng = len(indicators)\n",
    "            initalarray = np.zeros(leng)\n",
    "            for i in range(leng):\n",
    "                #print(i,type(i))\n",
    "                func = eval(indicators.loc[indicators.index[i]]['action value'])\n",
    "                funcval = eval(indicators.loc[indicators.index[i]]['action input'])\n",
    "                bineval = eval(indicators.loc[indicators.index[i]]['action binary'])\n",
    "                #print(funcval, type(funcval))\n",
    "                if bineval:\n",
    "                    initalarray[i] = func(funcval)\n",
    "            self[item]['vec'] = initalarray\n",
    "        \n"
   ]
  },
  {
   "cell_type": "code",
   "execution_count": 642,
   "metadata": {},
   "outputs": [],
   "source": [
    "def linearity(trial):\n",
    "    fx = trial['raw']['x'].iloc[0]\n",
    "    lx = trial['raw']['x'].iloc[-1]\n",
    "    fy = trial['raw']['y'].iloc[0]\n",
    "    ly = trial['raw']['y'].iloc[-1]\n",
    "    slope = (float(fy) - ly) / float(fx - lx)\n",
    "    bee = fy - (slope*fx)\n",
    "    func = lambda x: (slope * x) + bee\n",
    "    gety = lambda x: trial['raw'].loc[trial['raw']['x'] == x]['y'].iloc[0]\n",
    "    r = list(trial['raw']['x'].to_dict().values())\n",
    "    perpslope = - ((1)/float(slope))\n",
    "    perpbee = lambda x,y: y - (perpslope*x)\n",
    "    perpintersect = lambda x: solve(( (perpslope * z) + perpbee(x,gety(x)) - ((slope * z) + bee)), z) #fix final gety(x) term\n",
    "    \n",
    "    #now we just need to determine ymax\n",
    "    maxdist = 0.0\n",
    "    maxp1 = [0,0]\n",
    "    maxp2 = [0,0]\n",
    "    for i in r[1:-1]:   \n",
    "        perpx = perpintersect(i)\n",
    "        perpx = perpx[0]\n",
    "        test = ((i - perpx)**2 + (gety(i) - func(perpx))**2)\n",
    "        dist = math.sqrt(test)\n",
    "        if dist > maxdist:\n",
    "            maxdist = dist\n",
    "            maxp1 = [i, gety(i)]\n",
    "            maxp2 = [perpx, func(perpx)]\n",
    "    return(maxdist)\n",
    "#     x = trial['raw']['x']\n",
    "#     y = trial['raw']['y']\n",
    "#     plt.plot(x,y,'b')\n",
    "#     plt.plot([maxp1[0],maxp2[0]],[maxp1[1],maxp2[1]],'r')\n",
    "#     plt.plot(r,[func(i) for i in r],'g')\n",
    "#     plt.show()"
   ]
  },
  {
   "cell_type": "code",
   "execution_count": 729,
   "metadata": {},
   "outputs": [],
   "source": [
    "trials = maketrials('inputdata.csv')\n",
    "#trials = maketrials('inputdata.csv')"
   ]
  },
  {
   "cell_type": "code",
   "execution_count": 730,
   "metadata": {
    "scrolled": true
   },
   "outputs": [],
   "source": [
    "for i in list(trials.keys()):\n",
    "    trial = trials[i]\n",
    "    trial.add('lin',linearity(trial))"
   ]
  },
  {
   "cell_type": "code",
   "execution_count": 733,
   "metadata": {},
   "outputs": [],
   "source": [
    "trials.evalrules('data.yaml')"
   ]
  },
  {
   "cell_type": "code",
   "execution_count": 734,
   "metadata": {},
   "outputs": [
    {
     "data": {
      "text/plain": [
       "array([6.35496683e+04, 2.70704000e+05, 2.36000000e+02, 5.80000000e+01])"
      ]
     },
     "execution_count": 734,
     "metadata": {},
     "output_type": "execute_result"
    }
   ],
   "source": [
    "trials['7']['vec']"
   ]
  },
  {
   "cell_type": "code",
   "execution_count": 727,
   "metadata": {},
   "outputs": [
    {
     "data": {
      "image/png": "[encoded data removed]",
      "text/plain": [
       "<Figure size 432x288 with 1 Axes>"
      ]
     },
     "metadata": {
      "needs_background": "light"
     },
     "output_type": "display_data"
    }
   ],
   "source": [
    "trials.plot()"
   ]
  },
  {
   "cell_type": "markdown",
   "metadata": {},
   "source": [
    "## todo"
   ]
  },
  {
   "cell_type": "markdown",
   "metadata": {},
   "source": [
    "1. create update function in maketrial function to make calling classes much easier\n",
    "2. implement l1/l2 regression to find weights for each indicator\n",
    "3. figure out what indicators we need and how to measure them\n",
    "4. figure out actual functions for the indicators I have now - weighting of severity of variation"
   ]
  },
  {
   "cell_type": "code",
   "execution_count": null,
   "metadata": {},
   "outputs": [],
   "source": []
  }
 ],
 "metadata": {
  "kernelspec": {
   "display_name": "Python 3",
   "language": "python",
   "name": "python3"
  },
  "language_info": {
   "codemirror_mode": {
    "name": "ipython",
    "version": 3
   },
   "file_extension": ".py",
   "mimetype": "text/x-python",
   "name": "python",
   "nbconvert_exporter": "python",
   "pygments_lexer": "ipython3",
   "version": "3.7.4"
  }
 },
 "nbformat": 4,
 "nbformat_minor": 4
}
